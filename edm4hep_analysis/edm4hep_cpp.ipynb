{
 "cells": [
  {
   "cell_type": "markdown",
   "id": "5a4190ec-a988-4869-9064-03aa5821c46a",
   "metadata": {},
   "source": [
    "### About\n",
    "\n",
    "In this very simple example, we would like to calculate the Higgs recoil mass on Higgsstrahlung events (e+e- ---> ZH) with Z->mumu.\n",
    "\n",
    "### Data\n",
    "Please download this file from [here](https://sas.desy.de/index.php/s/eBYsECq4sN6NGkP):\n",
    "  * Signal: `E250-TDR_ws.Pe2e2h.Gwhizard-1_95.eL.pR.I106479.001.edm4hep.root`\n",
    "\n",
    "  \n",
    "Create a folder called `data` in the root directory of this repository. Then put into separate foldes `signal`"
   ]
  },
  {
   "cell_type": "markdown",
   "id": "2743224e-3939-41c3-bf0f-4f5b0959b2c1",
   "metadata": {},
   "source": [
    "### Import headers and create Histograms "
   ]
  },
  {
   "cell_type": "code",
   "execution_count": null,
   "id": "556ba3e3-258d-40d1-a9ec-d72ed43ad523",
   "metadata": {},
   "outputs": [],
   "source": [
    "#include \"edm4hep/ReconstructedParticleCollection.h\"\n",
    "#include \"edm4hep/utils/kinematics.h\"\n",
    "\n",
    "#include \"podio/Frame.h\"\n",
    "#include \"podio/ROOTFrameReader.h\"\n",
    "\n",
    "#include \"TH1F.h\"\n",
    "#include \"cmath\"\n",
    "\n",
    "\n"
   ]
  },
  {
   "cell_type": "code",
   "execution_count": null,
   "id": "bf19d0ea-0ce9-4b13-a7fc-2c4406270584",
   "metadata": {},
   "outputs": [],
   "source": [
    "TH1F* higgs_recoil_hist = new TH1F(\"higgs recoil hist\", \";recoil mass [GeV]; events; \", 30, 100., 250.);\n",
    "TH1F* dimuon_mass_hist = new TH1F(\"di-muon mass hist\", \";mass [GeV]; events; \", 30, 50., 200.);"
   ]
  },
  {
   "cell_type": "markdown",
   "id": "71f14fb4-7232-4d0a-afa8-4672d7711611",
   "metadata": {},
   "source": [
    "### Function "
   ]
  },
  {
   "cell_type": "code",
   "execution_count": null,
   "id": "5190bc79-67e3-43d0-9cdc-51b74ddab6c0",
   "metadata": {},
   "outputs": [],
   "source": [
    "void higgs_recoil_edm4hep(const char* FILEN){\n",
    "    //gROOT->SetBatch(); // if uncommented ROOT does not open a window to show plots\n",
    "\n",
    "    int maxEvt = -1;\t// if set to -1, all events are taken\n",
    "\n",
    "\n",
    "    // ---------------- collection -------------------- //\n",
    "\n",
    "    const std::string muoColName = \"Muon\";\n",
    "\n",
    "    auto reader = podio::ROOTFrameReader();\n",
    "    reader.openFile(FILEN);\n",
    "\n",
    "    // ================ the event loop ================ //\n",
    "\n",
    "    const auto nEntries = reader.getEntries(\"events\") ;\n",
    "\n",
    "    std::cout << \" --  \" <<  nEntries << \"  entries to be read from file: \" << FILEN << std::endl ;\n",
    "    \n",
    "    if(maxEvt == -1){\n",
    "        maxEvt = nEntries;\n",
    "    } \n",
    "\n",
    "\n",
    "    double pxinitial = 0.;\n",
    "    double Einitial = 250.; // we are considering the resonance here \n",
    "    double angle = 0.007; \t// crossing angle parameter, change as needed\n",
    "        \n",
    "    pxinitial = Einitial*angle;\n",
    "    Einitial = 2.*std::sqrt(std::pow(Einitial/2.,2)+std::pow(pxinitial,2));\n",
    "    const edm4hep::LorentzVectorE ecms(pxinitial,0.,0.,Einitial);\n",
    "    \n",
    "    for(int entry = 0; entry < maxEvt; ++entry){\n",
    "        \n",
    "        auto store = podio::Frame(reader.readNextEntry(\"events\"));\n",
    "        \n",
    "        // HANDS-ON!!\n",
    "        // We need to get the muon collection. \n",
    "        // Then we should put a cut: Take events with exactly TWO muons\n",
    "        // Use edmp4hep utils p4: This will put mu1 and mu2 into 4-vector\n",
    "        \n",
    "        \n",
    "        // recoil mass\n",
    "        const auto recoil=ecms-(mu1+mu2);\n",
    "\n",
    "        higgs_recoil_hist->Fill(recoil.M());\n",
    "        dimuon_mass_hist->Fill(m_mu1mu2);\n",
    "        \n",
    "\n",
    "    }\n",
    "\n",
    "    \n",
    "    std::cout << std::endl << \" \" << nEntries << \" events read from file: \" << FILEN << std::endl;\t\n",
    "}"
   ]
  },
  {
   "cell_type": "markdown",
   "id": "11aec647-eb54-4522-a9cc-5343153abe72",
   "metadata": {},
   "source": [
    "### Plot with Root"
   ]
  },
  {
   "cell_type": "code",
   "execution_count": null,
   "id": "dc648c0a-a21a-4ad1-b97b-ece959cfca10",
   "metadata": {},
   "outputs": [],
   "source": [
    "higgs_recoil_edm4hep(\"./data/signal/E250-TDR_ws.Pe2e2h.Gwhizard-1_95.eL.pR.I106479.001.edm4hep.root\") ;"
   ]
  },
  {
   "cell_type": "code",
   "execution_count": null,
   "id": "23e55f43-ecc1-4bb4-b1ba-9399a3e9e5fa",
   "metadata": {},
   "outputs": [],
   "source": [
    "higgs_recoil_hist->Draw();c1->Draw();"
   ]
  },
  {
   "cell_type": "code",
   "execution_count": null,
   "id": "f4a1b086-b744-4745-82b6-64658a3eb4ce",
   "metadata": {},
   "outputs": [],
   "source": [
    "dimuon_mass_hist->Draw();\n",
    "\n",
    "c1->Draw();"
   ]
  }
 ],
 "metadata": {
  "kernelspec": {
   "display_name": "ROOT C++",
   "language": "c++",
   "name": "root"
  },
  "language_info": {
   "codemirror_mode": "text/x-c++src",
   "file_extension": ".C",
   "mimetype": " text/x-c++src",
   "name": "c++"
  }
 },
 "nbformat": 4,
 "nbformat_minor": 5
}
