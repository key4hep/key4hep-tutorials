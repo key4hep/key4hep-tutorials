{
 "cells": [
  {
   "cell_type": "markdown",
   "id": "cec246c4-1516-46c0-97f6-6afab8afe083",
   "metadata": {
    "tags": []
   },
   "source": [
    "### About\n",
    "\n",
    "In this very simple example, we would like to calculate the Higgs recoil mass on Higgsstrahlung events (e+e- ---> ZH) with Z->mumu.\n",
    "\n",
    "### Data\n",
    "Please download these files from [here](https://sas.desy.de/index.php/s/eBYsECq4sN6NGkP):\n",
    "  * Signal: `E250-TDR_ws.Pe2e2h.Gwhizard-1_95.eL.pR.I106479.001.edm4hep.root`\n",
    "  * Background: `E250-TDR_ws.P4f_zz_sl.Gwhizard-1_95.eL.pR.I106575.001.edm4hep.root`\n",
    "  \n",
    "Create a folder called `data` in the root directory of this repository. Then put into separate foldes `signal`and `bgk`"
   ]
  },
  {
   "cell_type": "markdown",
   "id": "4265bf77-321b-4110-926c-3b00d4d80f00",
   "metadata": {},
   "source": [
    "### Imports"
   ]
  },
  {
   "cell_type": "code",
   "execution_count": null,
   "id": "845e9117-9256-419f-b3f1-298891ec7a3a",
   "metadata": {},
   "outputs": [],
   "source": [
    "import ROOT\n",
    "from ROOT import edm4hep\n",
    "import numpy as np\n",
    "import os\n",
    "from os import listdir\n",
    "from edm4hep_path import get_edm4hep_path\n",
    "from podio.root_io import Reader\n",
    "\n",
    "ROOT.gInterpreter.LoadFile(get_edm4hep_path()+\"/include/edm4hep/utils/kinematics.h\")\n",
    "USE_ENERGY=edm4hep.utils.detail.UseEnergyTag()"
   ]
  },
  {
   "cell_type": "markdown",
   "id": "7ab1a376-7435-4929-89ff-824939cddfa1",
   "metadata": {},
   "source": [
    "### Event Loop"
   ]
  },
  {
   "cell_type": "code",
   "execution_count": null,
   "id": "0b68fd21-59e4-4eb9-b990-fadc29de57d0",
   "metadata": {},
   "outputs": [],
   "source": [
    "def doEvtLoop(inputfiles,nbin,xmin,xmax,histtag,title):\n",
    "    \n",
    "    reader = Reader(inputfiles)\n",
    "    hist = ROOT.TH1F(histtag,title,nbin,xmin,xmax)\n",
    "\n",
    "    pxinitial = 0.\n",
    "    Einitial = 250. # considering resonance here\n",
    "    angle = 0.007 # crossing angle parameter, change as needed\n",
    "\n",
    "    pxinitial = Einitial*angle\n",
    "    Einitial = 2.*np.sqrt((Einitial/2.)**2 + (pxinitial/2.)**2)\n",
    "        \n",
    "    ecms = edm4hep.LorentzVectorE(pxinitial,0.,0.,Einitial)\n",
    "\n",
    "\n",
    "    for i, event in enumerate(reader.get('events')):            \n",
    "        \n",
    "        ## HANDS-ON!!\n",
    "        # We need to get the muon collection. \n",
    "        # Then we should put a cut: Take events with exactly TWO muons\n",
    "        # Use edmp4hep utils p4: This will put mu1 and mu2 into 4-vector\n",
    " \n",
    "        \n",
    "        # recoil mass calculations\n",
    "        recoil = ecms - (mu1 + mu2)\n",
    "        hist.Fill(recoil.M())\n",
    "        \n",
    "    return hist\n",
    "\n"
   ]
  },
  {
   "cell_type": "markdown",
   "id": "e28fef49-d95b-4d56-84f3-630dc82c01ab",
   "metadata": {},
   "source": [
    "### Running over samples"
   ]
  },
  {
   "cell_type": "code",
   "execution_count": null,
   "id": "03949657-851f-489b-91ea-0509b1ea2073",
   "metadata": {},
   "outputs": [],
   "source": [
    "signalDir = '../data/signal/E250-TDR_ws.Pe2e2h.Gwhizard-1_95.eL.pR.I106479.001.edm4hep.root'\n",
    "bkgDir = '../data/bgk/E250-TDR_ws.P4f_zz_sl.Gwhizard-1_95.eL.pR.I106575.001.edm4hep.root'\n",
    "\n",
    "sig_hist = doEvtLoop(signalDir,40,50.,250.,\"signal\",\"; mass [GeV]; ; \")\n",
    "bkg_hist = doEvtLoop(bkgDir,40,50.,250.,\"bkg\", \"; mass [GeV]; ; \")"
   ]
  },
  {
   "cell_type": "markdown",
   "id": "c14a3221-4f95-4ae2-b6b0-f4ef128d0d24",
   "metadata": {},
   "source": [
    "### Draw via ROOT"
   ]
  },
  {
   "cell_type": "code",
   "execution_count": null,
   "id": "24bf30bf-1fb9-4a5e-9d72-cc1e22ac4748",
   "metadata": {},
   "outputs": [],
   "source": [
    "c1 = ROOT.TCanvas()\n",
    "sig_hist.Draw()\n",
    "hs = ROOT.THStack(\"hs\",\"; mass [GeV]; ; \")\n",
    "leg = ROOT.TLegend(0.5,0.6,0.9,0.9)\n",
    "leg.SetHeader(\"ILC at 250 GeV\")\n",
    "sig_hist.SetFillColor(2)\n",
    "leg.AddEntry(sig_hist, \"Signal\", \"F\")\n",
    "bkg_hist.SetFillColor(4)\n",
    "leg.AddEntry(bkg_hist, \"Bkg.\",\"F\")\n",
    "hs.Add(bkg_hist)\n",
    "hs.Add(sig_hist)\n",
    "hs.Draw()\n",
    "leg.Draw()\n",
    "c1.Draw()\n"
   ]
  },
  {
   "cell_type": "code",
   "execution_count": null,
   "id": "a3886df3-de27-4df1-b983-52b9ef1e8dd1",
   "metadata": {},
   "outputs": [],
   "source": []
  }
 ],
 "metadata": {
  "kernelspec": {
   "display_name": "Python 3 (ipykernel)",
   "language": "python",
   "name": "python3"
  },
  "language_info": {
   "codemirror_mode": {
    "name": "ipython",
    "version": 3
   },
   "file_extension": ".py",
   "mimetype": "text/x-python",
   "name": "python",
   "nbconvert_exporter": "python",
   "pygments_lexer": "ipython3",
   "version": "3.9.10"
  }
 },
 "nbformat": 4,
 "nbformat_minor": 5
}
